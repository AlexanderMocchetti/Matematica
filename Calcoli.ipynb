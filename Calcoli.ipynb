{
 "cells": [
  {
   "cell_type": "markdown",
   "id": "925bcc6c-29c5-425d-bcfc-0dd30caeb2ec",
   "metadata": {},
   "source": [
    "# FUNZIONI PER CALCOLARE VOLUMI DI FIGURE SOLIDE"
   ]
  },
  {
   "cell_type": "code",
   "execution_count": 1,
   "id": "e88aa9e0-42a4-4151-8211-f25959fda739",
   "metadata": {},
   "outputs": [],
   "source": [
    "from math import pi, sqrt"
   ]
  },
  {
   "cell_type": "code",
   "execution_count": 2,
   "id": "8cef5695-5567-4096-b575-43249eca13a3",
   "metadata": {},
   "outputs": [],
   "source": [
    "def get_trapezoidal_prism_volume(a, b, h, l):\n",
    "    return 1/2 * (a + b) * h * l"
   ]
  },
  {
   "cell_type": "code",
   "execution_count": 3,
   "id": "f1f28df1-cea6-4fdb-98a4-51c6a494150f",
   "metadata": {},
   "outputs": [],
   "source": [
    "def get_triangular_prism_volume(b, h, l):\n",
    "    return 1/2 * b * h * l"
   ]
  },
  {
   "cell_type": "code",
   "execution_count": 4,
   "id": "0811935b-697d-45a3-a639-6566bf155636",
   "metadata": {},
   "outputs": [],
   "source": [
    "def get_dome(r, h):\n",
    "    return 2/3 * pi * r**3 + pi * r**2 * h"
   ]
  }
 ],
 "metadata": {
  "kernelspec": {
   "display_name": "Python 3 (ipykernel)",
   "language": "python",
   "name": "python3"
  },
  "language_info": {
   "codemirror_mode": {
    "name": "ipython",
    "version": 3
   },
   "file_extension": ".py",
   "mimetype": "text/x-python",
   "name": "python",
   "nbconvert_exporter": "python",
   "pygments_lexer": "ipython3",
   "version": "3.8.18"
  }
 },
 "nbformat": 4,
 "nbformat_minor": 5
}
